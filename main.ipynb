{
 "cells": [
  {
   "cell_type": "code",
   "execution_count": 21,
   "metadata": {},
   "outputs": [],
   "source": [
    "#Comments in this code are based on the parameters TrainingPercent = 80, ValidationPercent = 10 and TestPercent = 10\n",
    "\n",
    "from sklearn.cluster import KMeans\n",
    "import numpy as np\n",
    "import csv\n",
    "import math\n",
    "import matplotlib.pyplot\n",
    "from matplotlib import pyplot as plt"
   ]
  },
  {
   "cell_type": "code",
   "execution_count": 22,
   "metadata": {},
   "outputs": [],
   "source": [
    "maxAcc = 0.0\n",
    "maxIter = 0\n",
    "'''Regularisation factor initialised to 0.1'''\n",
    "C_Lambda = 0.1 \n",
    "TrainingPercent = 80\n",
    "ValidationPercent = 10\n",
    "TestPercent = 10\n",
    "'''Number of basis functions '''\n",
    "M = 1\n",
    "PHI = []\n",
    "IsSynthetic = False"
   ]
  },
  {
   "cell_type": "code",
   "execution_count": 23,
   "metadata": {},
   "outputs": [],
   "source": [
    "'''GetTargetVector takes Querylevelnorm_t.csv as an input and processes it.  This file has target data values 0,1,2 \n",
    "illustrating the relevance, larger the relevance label, the better is the match between query and document. It returns a list \n",
    "t with 69623 rows and 1 column'''\n",
    "def GetTargetVector(filePath):\n",
    "    t = []\n",
    "    '''The file Querylevelnorm_t.csv is opened in an rU modewhich an universal newline mode, \n",
    "    this mode basically supports all operating systems.'''\n",
    "    with open(filePath, 'rU') as f:\n",
    "        reader = csv.reader(f)\n",
    "        for row in reader:  \n",
    "            t.append(int(row[0]))\n",
    "    #print(\"Raw Training Generated..\")\n",
    "    '''It returns a list t with 69623 rows and 1 column'''\n",
    "    return t\n",
    "\n",
    "'''GenerateRawData takes Querylevelnorm_X.csv as an input and processes it. The parameter IsSynthetic is redundant in this code\n",
    "and can be overlooked. Querylevelnorm_X.csv has in total 69623 rows and 46 columns. Where the number 46 is the number of features.'''\n",
    "def GenerateRawData(filePath, IsSynthetic):    \n",
    "    dataMatrix = [] \n",
    "    '''The file Querylevelnorm_X.csv is opened in an rU mode which is again an universal newline mode.'''\n",
    "    with open(filePath, 'rU') as fi:\n",
    "        reader = csv.reader(fi)\n",
    "        for row in reader:\n",
    "            dataRow = []\n",
    "            for column in row:\n",
    "                dataRow.append(float(column))\n",
    "            dataMatrix.append(dataRow)   \n",
    "    '''At this moment, dataMatrix, which is a list, has 69623 rows and 46 columns. But by looking at the dataset i.e \n",
    "    Querylevelnorm_X.csv, we can see that columns 5,6,7,8 and 9 are 0 valued. Thus, we can delete them.'''\n",
    "    if IsSynthetic == False :\n",
    "        '''Deleting columns 5,6,7,8 and 9, thus 46 features will now be reduced to 41'''\n",
    "        dataMatrix = np.delete(dataMatrix, [5,6,7,8,9], axis=1)\n",
    "    '''Here, we are exclusively taking the transpose of dataMatrix. i.e After deleting the mentioned columns, we had dataMatrix\n",
    "    of the order (69623,41). As we now take the tranpose we will have the order of the dataMatrix as (41, 69623). This has been\n",
    "    done because we want to use (41, 69623) order of 'RawData' (this function returns dataMatrix and it is stored in a \n",
    "    list called RawData) in functions such as:\n",
    "    1. GenerateTrainingDataMatrix()\n",
    "    2. GenerateValData()  \n",
    "    3. GenerateBigSigma(): : We want to preserve the order of rawData which is (41, 69623) because we are using the same in order\n",
    "    to populate 'vct', there the loop i runs from 0 to 41 and j runs from 0 to 55699, in that we are populating vct by adding\n",
    "    elements from RawData[i][j]. Thus after populating 55699 values, after every iteration the variance is calculated and then\n",
    "    store in varVect[], which is again a 1D list.\n",
    "    4. GetPhiMatrix()'''\n",
    "    dataMatrix = np.transpose(dataMatrix)     \n",
    "    #print (\"Data Matrix Generated..\")\n",
    "    '''After performing deletions, dataMatrix is returned of the order (41, 69623) '''\n",
    "    return dataMatrix\n",
    "\n",
    "'''GenerateTrainingTarget takes RawTarget and TrainingPercent as an input. Since we decided 80,10,10 as the Training, Validation\n",
    "and Test split, TrainingPercent has 80 value. RawTarget is of the order (69623,). RawTarget is passed in rawTraining in this\n",
    "method.'''\n",
    "def GenerateTrainingTarget(rawTraining,TrainingPercent = 80):\n",
    "    '''TrainingLen is calculated as per the 80% split of the overall dataset. len(rawTraining) has the value 69623, thus the\n",
    "    calculation for TrainingLen is (69623 * 80 * 0.01) = 55698.4, which is rounded off to the nearest integer as 55699.'''\n",
    "    TrainingLen = int(math.ceil(len(rawTraining)*(TrainingPercent*0.01)))\n",
    "    t           = rawTraining[:TrainingLen]\n",
    "    #print(str(TrainingPercent) + \"% Training Target Generated..\")\n",
    "    '''All values starting from 0 to 55699 are considered in Training Target set.'''\n",
    "    return t\n",
    "\n",
    "'''GenerateTrainingDataMatrix accepts RawData as an input and TrainingPercent as 80, which is the decided Training split.'''\n",
    "def GenerateTrainingDataMatrix(rawData, TrainingPercent = 80):\n",
    "    '''The order of RawData is (41, 69623), thus len(RawData[0]) will have the value 69623. T_len is calculated as:\n",
    "    69623 * 0.01 * 80 ~ 55699'''\n",
    "    T_len = int(math.ceil(len(rawData[0])*0.01*TrainingPercent))\n",
    "    '''Now, d2 will be returned of the order (41, 55699)'''\n",
    "    d2 = rawData[:,0:T_len]\n",
    "    #print(str(TrainingPercent) + \"% Training Data Generated..\")\n",
    "    return d2\n",
    "\n",
    "'''GenerateValData accepts RawData as the input, ValidationPercent/TestPercent and len(TrainingTarget). \n",
    "len(TrainingTarget) = 55699 is passed to TrainingCount. ValidationPercent/TestPercent = 10 is passed to ValPercent.'''\n",
    "def GenerateValData(rawData, ValPercent, TrainingCount): \n",
    "    '''Calculation of valSize is (69623 * 10 * 0.01) ~ 6962'''\n",
    "    valSize = int(math.ceil(len(rawData[0])*ValPercent*0.01))\n",
    "    '''E_End = 55699 + 6962 = 62662'''\n",
    "    V_End = TrainingCount + valSize\n",
    "    print(V_End)\n",
    "    '''dataMatrix will return values all 41 features and column values starting from 55700 up until 62662'''\n",
    "    dataMatrix = rawData[:,TrainingCount+1:V_End]\n",
    "    #print (str(ValPercent) + \"% Val Data Generated..\")  \n",
    "    return dataMatrix\n",
    "\n",
    "'''GenerateValTargetVector accepts RawTarget, ValidationPercent/TestPercent and len(TrainingTarget).'''\n",
    "def GenerateValTargetVector(rawData, ValPercent, TrainingCount): \n",
    "    '''valSize is calculated as (69623 * 10 * 0.01) ~ 6962'''\n",
    "    valSize = int(math.ceil(len(rawData)*ValPercent*0.01))\n",
    "    '''V_End is 55699 + 6962 = 62662'''\n",
    "    V_End = TrainingCount + valSize\n",
    "    '''t will store values from 55700 to 62662'''\n",
    "    t =rawData[TrainingCount+1:V_End]\n",
    "    #print (str(ValPercent) + \"% Val Target Data Generated..\")\n",
    "    return t\n",
    "\n",
    "'''GenerateBigSigma takes RawData, Mu, TrainingPercent and IsSynthetic as input. However, Mu and IsSynthetic do no play any role\n",
    "in the code mentioned below.'''\n",
    "def GenerateBigSigma(Data, MuMatrix,TrainingPercent,IsSynthetic):\n",
    "    '''Basically we are calculating Covariance Matrix and extracting Variance from the diagonal elements of that Covariance\n",
    "    Matrix'''\n",
    "    '''Covariance matrix is where we calculate variance of a feature with every other feature'''\n",
    "    '''We are creating a numpy array called BigSigma of the order (41, 41) as len(Data) = 41 nad len(Data[0])= 69623'''\n",
    "    BigSigma    = np.zeros((len(Data),len(Data)))\n",
    "    '''DataT is of the order (69623, 41)'''\n",
    "    DataT       = np.transpose(Data)\n",
    "    '''TrainingLen = 69623 * 80 * 0.01 ~ 55699'''\n",
    "    TrainingLen = math.ceil(len(DataT)*(TrainingPercent*0.01))        \n",
    "    '''For every iteration of i, which takes values from 0 to 40, varVect will store the variance of features ranging from\n",
    "    0 to 41 i.e it will store the variance of all 41 features'''\n",
    "    varVect     = []\n",
    "    '''DataT[0] = 41'''\n",
    "    for i in range(0,len(DataT[0])):\n",
    "        '''For every feature, vct will store the number of training samples from RawData. It will store values ranging from\n",
    "        0 to 55699 as TrainingLen is 55699'''\n",
    "        '''In every iteration vct is getting initialized thus considering new feature in every iteration'''\n",
    "        vct = []\n",
    "        for j in range(0,int(TrainingLen)):\n",
    "            vct.append(Data[i][j])    \n",
    "        varVect.append(np.var(vct)) #Variance is how far a set of numbers are spread out from their average value\n",
    "    '''Up until this point, varVect will have 41 values corresponding to variances of 41 features'''\n",
    "    '''The following loop will store all the variances of 41 features into the diagonal elements of the matrix BigSigma'''\n",
    "    '''We are doing so because in order to calculate the gaussain radial basis function, we want to invert this matrix BigSigma'''\n",
    "    '''BigSigma is of the order (41, 41)'''\n",
    "    '''Since IsSynthetic is always false, Following code randomly multiplies a scalar value 200 with BigSigma '''\n",
    "    for j in range(len(Data)):\n",
    "        BigSigma[j][j] = varVect[j]\n",
    "    if IsSynthetic == True:\n",
    "        BigSigma = np.dot(3,BigSigma)\n",
    "    else:\n",
    "        BigSigma = np.dot(200,BigSigma)\n",
    "    ##print (\"BigSigma Generated..\")\n",
    "    return BigSigma\n",
    "\n",
    "'''GetScalar accepts DataRow i.e x in terms of our gaussain radial basis function vector form, MuRow i.e Mu, and BigSigInv which\n",
    "is nothing but the inverse of BigSigma'''\n",
    "def GetScalar(DataRow,MuRow, BigSigInv):  \n",
    "    '''R is calculating (x-Mu)'''\n",
    "    R = np.subtract(DataRow,MuRow)\n",
    "    '''T is calculating (BigSigmaInverse.transpose(x-Mu))'''\n",
    "    T = np.dot(BigSigInv,np.transpose(R)) \n",
    "    L = np.dot(R,T)\n",
    "    return L\n",
    "\n",
    "def GetRadialBasisOut(DataRow,MuRow, BigSigInv):    \n",
    "    '''phi_x calculates the vector form of gaussian radial basis function'''\n",
    "    phi_x = math.exp(-0.5*GetScalar(DataRow,MuRow,BigSigInv))\n",
    "    return phi_x\n",
    "\n",
    "def GetPhiMatrix(Data, MuMatrix, BigSigma, TrainingPercent = 80):\n",
    "    '''Example: DataT is of the order (69623, 10) for TrainingData'''\n",
    "    DataT = np.transpose(Data)\n",
    "    '''For TrainingData, TrainingLen = 55699'''\n",
    "    TrainingLen = math.ceil(len(DataT)*(TrainingPercent*0.01))         \n",
    "    '''PHI is of the order (55699, 10)'''\n",
    "    PHI = np.zeros((int(TrainingLen),len(MuMatrix))) \n",
    "    #print(BigSigma)\n",
    "    '''Calculating BigSigInv to compute the term Sigma Inverse from the gaussain radial basis function vector form'''\n",
    "    BigSigInv = np.linalg.inv(BigSigma)\n",
    "    #print(BigSigInv)\n",
    "    '''len(MuMatrix) = 10 and TrainingLen = 55699'''\n",
    "    for  C in range(0,len(MuMatrix)):\n",
    "        for R in range(0,int(TrainingLen)):\n",
    "            '''R takes the values from 0 to 55698 and C takes the values from 0 to 9'''\n",
    "            PHI[R][C] = GetRadialBasisOut(DataT[R], MuMatrix[C], BigSigInv)\n",
    "    #print (\"PHI Generated..\")\n",
    "    return PHI\n",
    "\n",
    "'''GetWeightsClosedForm gives us the values of the updated weights. It accepts PHI, T as TrainingTarget, Lambda = 0.03\n",
    "PHI is of the order (55699, 10) for TrainingData. This basically calculates the Weights using Moore- Penrose \n",
    "pseudo- Inverse Matrix notation '''\n",
    "def GetWeightsClosedForm(PHI, T, Lambda):\n",
    "    '''Considering an identity matrix of the order (10, 10)'''\n",
    "    Lambda_I = np.identity(len(PHI[0]))\n",
    "    for i in range(0,len(PHI[0])):\n",
    "        Lambda_I[i][i] = Lambda\n",
    "    '''Example: Calculating PHI_T which is of the order (10, 55699) for TrainingData'''\n",
    "    PHI_T       = np.transpose(PHI)\n",
    "    '''Calculating PHI_SQR which is the dot product of PHI_T and PHI, order is (10, 10)'''\n",
    "    PHI_SQR     = np.dot(PHI_T,PHI)\n",
    "    '''Calculating PHI_SQR_LI which corresponds to the term ((lambda*I)+(transpose(PHI).PHI)). It is of the order (10, 10)'''\n",
    "    PHI_SQR_LI  = np.add(Lambda_I,PHI_SQR)\n",
    "    '''Calculating inverse of PHI_SQR_LI'''\n",
    "    PHI_SQR_INV = np.linalg.inv(PHI_SQR_LI)\n",
    "    '''Calculating INTER which is nothing but (PHI_SQR_INV.PHI_T), it is of the order (10, 55699)'''\n",
    "    INTER       = np.dot(PHI_SQR_INV, PHI_T)\n",
    "    '''Calculating updated weights, of the order (10, 1)'''\n",
    "    W           = np.dot(INTER, T)\n",
    "    ##print (\"Training Weights Generated..\")\n",
    "    return W\n",
    "\n",
    "'''Returns the output'''\n",
    "def GetValTest(VAL_PHI,W):\n",
    "    \n",
    "    Y = np.dot(W,np.transpose(VAL_PHI))\n",
    "    return Y\n",
    "\n",
    "'''Calculates the ERMS value'''\n",
    "'''VAL_TEST_OUT stores Training_PHI/VAL_PHI/TEST_PHI, ValDataAct has TrainingTarget'''\n",
    "def GetErms(VAL_TEST_OUT,ValDataAct):\n",
    "    sum = 0.0\n",
    "    t=0\n",
    "    accuracy = 0.0\n",
    "    '''Counter stores the number of times the target label was predicted was perfectly matched with the target output given '''\n",
    "    counter = 0\n",
    "    val = 0.0\n",
    "    for i in range (0,len(VAL_TEST_OUT)):\n",
    "        sum = sum + math.pow((ValDataAct[i] - VAL_TEST_OUT[i]),2)\n",
    "        if(int(np.around(VAL_TEST_OUT[i], 0)) == ValDataAct[i]):\n",
    "            counter+=1\n",
    "    accuracy = (float((counter*100))/float(len(VAL_TEST_OUT)))\n",
    "    ##print (\"Accuracy Generated..\")\n",
    "    ##print (\"Validation E_RMS : \" + str(math.sqrt(sum/len(VAL_TEST_OUT))))\n",
    "    return (str(accuracy) + ',' +  str(math.sqrt(sum/len(VAL_TEST_OUT))))"
   ]
  },
  {
   "cell_type": "markdown",
   "metadata": {},
   "source": [
    "## Fetch and Prepare Dataset"
   ]
  },
  {
   "cell_type": "code",
   "execution_count": 24,
   "metadata": {},
   "outputs": [
    {
     "name": "stderr",
     "output_type": "stream",
     "text": [
      "C:\\Users\\Sahil\\Anaconda3\\lib\\site-packages\\ipykernel_launcher.py:8: DeprecationWarning: 'U' mode is deprecated\n",
      "  \n",
      "C:\\Users\\Sahil\\Anaconda3\\lib\\site-packages\\ipykernel_launcher.py:21: DeprecationWarning: 'U' mode is deprecated\n"
     ]
    }
   ],
   "source": [
    "'''Fetches the input files '''\n",
    "RawTarget = GetTargetVector('Querylevelnorm_t.csv')\n",
    "RawData   = GenerateRawData('Querylevelnorm_X.csv',IsSynthetic)"
   ]
  },
  {
   "cell_type": "markdown",
   "metadata": {},
   "source": [
    "## Prepare Training Data"
   ]
  },
  {
   "cell_type": "code",
   "execution_count": 25,
   "metadata": {},
   "outputs": [
    {
     "name": "stdout",
     "output_type": "stream",
     "text": [
      "(55699,)\n",
      "(41, 55699)\n"
     ]
    }
   ],
   "source": [
    "'''Generating the TrainingTarget and TrainingData by performing partioning of the original dataset'''\n",
    "TrainingTarget = np.array(GenerateTrainingTarget(RawTarget,TrainingPercent))\n",
    "TrainingData   = GenerateTrainingDataMatrix(RawData,TrainingPercent)\n",
    "print(TrainingTarget.shape)\n",
    "print(TrainingData.shape)"
   ]
  },
  {
   "cell_type": "markdown",
   "metadata": {},
   "source": [
    "## Prepare Validation Data"
   ]
  },
  {
   "cell_type": "code",
   "execution_count": 26,
   "metadata": {},
   "outputs": [
    {
     "name": "stdout",
     "output_type": "stream",
     "text": [
      "62662\n",
      "(6962,)\n",
      "(41, 6962)\n"
     ]
    }
   ],
   "source": [
    "'''Partitioning for Validation set'''\n",
    "ValDataAct = np.array(GenerateValTargetVector(RawTarget,ValidationPercent, (len(TrainingTarget))))\n",
    "ValData    = GenerateValData(RawData,ValidationPercent, (len(TrainingTarget)))\n",
    "print(ValDataAct.shape)\n",
    "print(ValData.shape)"
   ]
  },
  {
   "cell_type": "markdown",
   "metadata": {},
   "source": [
    "## Prepare Test Data"
   ]
  },
  {
   "cell_type": "code",
   "execution_count": 27,
   "metadata": {},
   "outputs": [
    {
     "name": "stdout",
     "output_type": "stream",
     "text": [
      "69624\n",
      "(6962,)\n",
      "(41, 6962)\n"
     ]
    }
   ],
   "source": [
    "'''Partitioning for test set'''\n",
    "TestDataAct = np.array(GenerateValTargetVector(RawTarget,TestPercent, (len(TrainingTarget)+len(ValDataAct))))\n",
    "TestData = GenerateValData(RawData,TestPercent, (len(TrainingTarget)+len(ValDataAct)))\n",
    "print(ValDataAct.shape)\n",
    "print(ValData.shape)"
   ]
  },
  {
   "cell_type": "markdown",
   "metadata": {},
   "source": [
    "## Closed Form Solution [Finding Weights using Moore- Penrose pseudo- Inverse Matrix]"
   ]
  },
  {
   "cell_type": "code",
   "execution_count": 28,
   "metadata": {},
   "outputs": [],
   "source": [
    "ErmsArr = []\n",
    "AccuracyArr = []\n",
    "'''We are doing kmeans clustering to find suitable number of cluster centroids. The cluster centroids would help us determine\n",
    "the number of gaussian basis functions and their mean'''\n",
    "kmeans = KMeans(n_clusters=M, random_state=0).fit(np.transpose(TrainingData))\n",
    "'''Why Transpose?\n",
    "Because fit requires an array where the shape is (n_samples, m_features). But our initial TrainingData is of the order (41, 55699)\n",
    "But here we need the order to be (55699, 41) i.e n_samples, m_features, thus we perform a transpose operation'''\n",
    "Mu = kmeans.cluster_centers_\n",
    "\n",
    "BigSigma     = GenerateBigSigma(RawData, Mu, TrainingPercent,IsSynthetic)\n",
    "TRAINING_PHI = GetPhiMatrix(RawData, Mu, BigSigma, TrainingPercent)\n",
    "W            = GetWeightsClosedForm(TRAINING_PHI,TrainingTarget,(C_Lambda)) \n",
    "TEST_PHI     = GetPhiMatrix(TestData, Mu, BigSigma, 100) \n",
    "VAL_PHI      = GetPhiMatrix(ValData, Mu, BigSigma, 100)"
   ]
  },
  {
   "cell_type": "code",
   "execution_count": 29,
   "metadata": {},
   "outputs": [
    {
     "name": "stdout",
     "output_type": "stream",
     "text": [
      "(1, 41)\n",
      "(41, 41)\n",
      "(55699, 1)\n",
      "(6962, 1)\n",
      "(6961, 1)\n"
     ]
    }
   ],
   "source": [
    "print(Mu.shape)\n",
    "print(BigSigma.shape)\n",
    "print(TRAINING_PHI.shape)\n",
    "#print(len(W))\n",
    "#print(W)\n",
    "print(VAL_PHI.shape)\n",
    "print(TEST_PHI.shape)"
   ]
  },
  {
   "cell_type": "markdown",
   "metadata": {},
   "source": [
    "## Finding Erms on training, validation and test set "
   ]
  },
  {
   "cell_type": "code",
   "execution_count": 30,
   "metadata": {},
   "outputs": [
    {
     "name": "stdout",
     "output_type": "stream",
     "text": [
      "TrainingAccuracy 74.52198423670085,0.5651378688423746\n",
      "ValidationAccuracy 75.17954610744039,0.5543829406814273\n",
      "TestAccuracy 70.23416175836805,0.6402356829691717\n"
     ]
    }
   ],
   "source": [
    "TR_TEST_OUT  = GetValTest(TRAINING_PHI,W)\n",
    "VAL_TEST_OUT = GetValTest(VAL_PHI,W)\n",
    "TEST_OUT     = GetValTest(TEST_PHI,W)\n",
    "\n",
    "TrainingAccuracy   = str(GetErms(TR_TEST_OUT,TrainingTarget))\n",
    "print(\"TrainingAccuracy\",TrainingAccuracy)\n",
    "ValidationAccuracy = str(GetErms(VAL_TEST_OUT,ValDataAct))\n",
    "print (\"ValidationAccuracy\",ValidationAccuracy)\n",
    "TestAccuracy       = str(GetErms(TEST_OUT,TestDataAct))\n",
    "print (\"TestAccuracy\",TestAccuracy)"
   ]
  },
  {
   "cell_type": "code",
   "execution_count": 31,
   "metadata": {
    "scrolled": true
   },
   "outputs": [
    {
     "name": "stdout",
     "output_type": "stream",
     "text": [
      "UBITname      = sahilsuh\n",
      "Person Number = 50289739\n",
      "----------------------------------------------------\n",
      "------------------LeToR Data------------------------\n",
      "----------------------------------------------------\n",
      "-------Closed Form with Radial Basis Function-------\n",
      "----------------------------------------------------\n",
      "M = 1 \n",
      "Lambda = 0.1\n",
      "E_rms Training   = 0.5651378688423746\n",
      "E_rms Validation = 0.5543829406814273\n",
      "E_rms Testing    = 0.6402356829691717\n"
     ]
    }
   ],
   "source": [
    "print ('UBITname      = sahilsuh')\n",
    "print ('Person Number = 50289739')\n",
    "print ('----------------------------------------------------')\n",
    "print (\"------------------LeToR Data------------------------\")\n",
    "print ('----------------------------------------------------')\n",
    "print (\"-------Closed Form with Radial Basis Function-------\")\n",
    "print ('----------------------------------------------------')\n",
    "print (\"M = 1 \\nLambda = 0.1\")\n",
    "print (\"E_rms Training   = \" + str(float(TrainingAccuracy.split(',')[1])))\n",
    "print (\"E_rms Validation = \" + str(float(ValidationAccuracy.split(',')[1])))\n",
    "print (\"E_rms Testing    = \" + str(float(TestAccuracy.split(',')[1])))"
   ]
  },
  {
   "cell_type": "code",
   "execution_count": 32,
   "metadata": {},
   "outputs": [
    {
     "data": {
      "image/png": "[encoded data removed]",
      "text/plain": [
       "<Figure size 432x288 with 1 Axes>"
      ]
     },
     "metadata": {},
     "output_type": "display_data"
    },
    {
     "data": {
      "image/png": "[encoded data removed]",
      "text/plain": [
       "<Figure size 432x288 with 1 Axes>"
      ]
     },
     "metadata": {},
     "output_type": "display_data"
    },
    {
     "data": {
      "image/png": "[encoded data removed]",
      "text/plain": [
       "<Figure size 432x288 with 1 Axes>"
      ]
     },
     "metadata": {},
     "output_type": "display_data"
    },
    {
     "data": {
      "image/png": "[encoded data removed]",
      "text/plain": [
       "<Figure size 432x288 with 1 Axes>"
      ]
     },
     "metadata": {},
     "output_type": "display_data"
    }
   ],
   "source": [
    "#Experiments\n",
    "\n",
    "'''When M = 1, Relationship between Lambda and ERMS for Training Set, Validation Set and Testing Set'''\n",
    "Lambda_1 = [0.1, 0.2, 0.3, 0.4, 0.5, 0.6, 0.7, 0.8, 0.9]\n",
    "TR_ERMS_1 = [0.5651378688423746, 0.5651378688435513, 0.565137868845509, 0.5651378688482578, 0.5651378688517864, 0.5651378688560998,\n",
    "            0.5651378688611969, 0.5651378688670756, 0.5651378688737423]\n",
    "VAL_ERMS_1 = [0.5543829406814273, 0.5543829279319872, 0.5543829151834043, 0.5543829024356742, 0.5543828896888023, 0.554382876942785,\n",
    "             0.5543828641976237, 0.5543828514533176, 0.5543828387098652]\n",
    "T_ERMS_1 = [0.6402356829691717, 0.6402357601204745, 0.6402358372721239, 0.6402359144241183, 0.640235991576458, 0.6402360687291448, \n",
    "            0.6402361458821784, 0.6402362230355565, 0.6402363001892816]\n",
    "plt.plot(Lambda_1, TR_ERMS_1, label = 'Training')\n",
    "plt.plot(Lambda_1, VAL_ERMS_1, label = 'Validation')\n",
    "plt.plot(Lambda_1, T_ERMS_1, label = 'Testing')\n",
    "plt.xlabel('Lambda values')\n",
    "plt.ylabel('ERMS Value')\n",
    "plt.title('Plot between Lambda and Training/Validation/Testing ERMS Value, M = 1')\n",
    "plt.legend()\n",
    "plt.show()\n",
    "\n",
    "'''When M = 2, Relationship between Lambda and ERMS for Training Set, Validation Set and Testing Set'''\n",
    "Lambda_2 = [0.1, 0.2, 0.3, 0.4, 0.5, 0.6, 0.7, 0.8, 0.9]\n",
    "TR_ERMS_2 = [0.5627948149944119, 0.5627948183333238, 0.5627948238859702, 0.5627948316424212,0.5627948415927972,0.5627948537272447,0.5627948680359659,\n",
    "0.5627948845092149, 0.5627949031372693]\n",
    "\n",
    "VAL_ERMS_2 = [0.5509387527165319, 0.5509395553129974,0.5509403588784759,0.5509411634059046,0.5509419688882601,0.5509427753185476,\n",
    "0.5509435826898135,0.5509443909951363,0.5509452002276315]\n",
    "\n",
    "T_ERMS_2 = [0.638449182307033,0.6384489991213015,0.6384488181998508,0.6384486395332776,0.6384484631122302,0.6384482889273918,\n",
    "0.6384481169694886,0.6384479472292846,0.6384477796975866]\n",
    "\n",
    "plt.plot(Lambda_2, TR_ERMS_2, label = 'Training')\n",
    "plt.plot(Lambda_2, VAL_ERMS_2, label = 'Validation')\n",
    "plt.plot(Lambda_2, T_ERMS_2, label = 'Testing')\n",
    "plt.xlabel('Lambda values')\n",
    "plt.ylabel('ERMS Value')\n",
    "plt.title('Plot between Lambda and Training/Validation/Testing ERMS Value, M = 2')\n",
    "plt.legend()\n",
    "plt.show()\n",
    "\n",
    "\n",
    "'''When M = 10, Relationship between Lambda and ERMS for Training Set, Validation Set and Testing Set'''\n",
    "Lambda_10 = [0.1, 0.2, 0.3, 0.4, 0.5, 0.6, 0.7, 0.8, 0.9]\n",
    "TR_ERMS_10 = [0.5495138127085464,0.5495684048344792,0.5496184028685661,0.5496652683214609,0.549709369084412,0.5497509568481201,\n",
    "0.5497902629351704,0.549827498063084,0.5498628487549053]\n",
    "\n",
    "\n",
    "VAL_ERMS_10 = [0.5385150200433642,0.5386478517405763,0.5387635628826766,0.5388629310082516,0.5389490530962439,0.5390246156543649,\n",
    "0.5390916977152266,0.5391518774092154,0.5392063570107043]\n",
    "\n",
    "\n",
    "T_ERMS_10 = [0.6281151520201143,0.6281846747729138,0.6282134745004091,0.6282266300255681,0.6282321603009604,0.6282335875446705,\n",
    "0.6282327270435593,0.6282306006752241,0.6282278135552045]\n",
    "\n",
    "\n",
    "plt.plot(Lambda_10, TR_ERMS_10, label = 'Training')\n",
    "plt.plot(Lambda_10, VAL_ERMS_10, label = 'Validation')\n",
    "plt.plot(Lambda_10, T_ERMS_10, label = 'Testing')\n",
    "plt.xlabel('Lambda values')\n",
    "plt.ylabel('ERMS Value')\n",
    "plt.title('Plot between Lambda and Training/Validation/Testing ERMS Value, M = 10')\n",
    "plt.legend()\n",
    "plt.show()\n",
    "\n",
    "\n",
    "'''When M = 50, Relationship between Lambda and ERMS for Training Set, Validation Set and Testing Set'''\n",
    "Lambda_50 = [0.1, 0.2, 0.3, 0.4, 0.5, 0.6, 0.7, 0.8, 0.9]\n",
    "TR_ERMS_50 = [0.5415495064646513,0.542222244387187,0.5427325742967881,0.5431523159417327,0.5435085763629482,0.5438166648151262,\n",
    "0.5440866977755379,0.5443258928802301,0.5445396340935544]\n",
    "\n",
    "\n",
    "\n",
    "VAL_ERMS_50 = [0.5368214467110219,0.5368020591528851,0.5368616443639317,0.5369482117437645,0.5370427685339039,0.5371374924689388,\n",
    "0.5372290214437269,0.5373159683058648,0.5373978726541355]\n",
    "\n",
    "\n",
    "\n",
    "T_ERMS_50 = [0.6207069259022228,0.6216302197012522,0.622316736279007,0.6228627657197855,0.6233118328573474,0.6236894427669977,\n",
    "0.6240122824831443,0.6242919659854715,0.6245369147281961]\n",
    "\n",
    "\n",
    "plt.plot(Lambda_50, TR_ERMS_50, label = 'Training')\n",
    "plt.plot(Lambda_50, VAL_ERMS_50, label = 'Validation')\n",
    "plt.plot(Lambda_50, T_ERMS_50, label = 'Testing')\n",
    "plt.xlabel('Lambda values')\n",
    "plt.ylabel('ERMS Value')\n",
    "plt.title('Plot between Lambda and Training/Validation/Testing ERMS Value, M = 50')\n",
    "plt.legend()\n",
    "plt.show()"
   ]
  },
  {
   "cell_type": "markdown",
   "metadata": {},
   "source": [
    "## Gradient Descent solution for Linear Regression"
   ]
  },
  {
   "cell_type": "code",
   "execution_count": 33,
   "metadata": {},
   "outputs": [
    {
     "name": "stdout",
     "output_type": "stream",
     "text": [
      "----------------------------------------------------\n",
      "--------------Please Wait for 2 mins!----------------\n",
      "----------------------------------------------------\n"
     ]
    }
   ],
   "source": [
    "print ('----------------------------------------------------')\n",
    "print ('--------------Please Wait for 2 mins!----------------')\n",
    "print ('----------------------------------------------------')"
   ]
  },
  {
   "cell_type": "code",
   "execution_count": 34,
   "metadata": {},
   "outputs": [],
   "source": [
    "'''Here we are randomly multiplying a constant value to the weights obtained from Closed Form Solution. We are using these\n",
    "random weights as the initial weights for our calculation'''\n",
    "W_Now        = np.dot(200, W)\n",
    "La           = 2\n",
    "learningRate = 0.1\n",
    "L_Erms_Val   = []\n",
    "L_Erms_TR    = []\n",
    "L_Erms_Test  = []\n",
    "W_Mat        = []\n",
    "\n",
    "'''The training is done on 400 datapoints'''\n",
    "for i in range(0,400):\n",
    "    '''SGD defines that new weights = initial weights + updated weights i.e for eg. w2 = w1 + delta(w1) where w1 is the \n",
    "    initial weight and delta(w1) is the change in weight'''\n",
    "    '''delta(w) = - (learning_rate).(delta(E))'''\n",
    "    \n",
    "    #print ('---------Iteration: ' + str(i) + '--------------')\n",
    "    Delta_E_D     = -np.dot((TrainingTarget[i] - np.dot(np.transpose(W_Now),TRAINING_PHI[i])),TRAINING_PHI[i])\n",
    "    La_Delta_E_W  = np.dot(La,W_Now)\n",
    "    Delta_E       = np.add(Delta_E_D,La_Delta_E_W)    \n",
    "    Delta_W       = -np.dot(learningRate,Delta_E)\n",
    "    W_T_Next      = W_Now + Delta_W\n",
    "    W_Now         = W_T_Next\n",
    "    \n",
    "    #-----------------TrainingData Accuracy---------------------#\n",
    "    TR_TEST_OUT   = GetValTest(TRAINING_PHI,W_T_Next) \n",
    "    Erms_TR       = GetErms(TR_TEST_OUT,TrainingTarget)\n",
    "    L_Erms_TR.append(float(Erms_TR.split(',')[1]))\n",
    "    \n",
    "    #-----------------ValidationData Accuracy---------------------#\n",
    "    VAL_TEST_OUT  = GetValTest(VAL_PHI,W_T_Next) \n",
    "    Erms_Val      = GetErms(VAL_TEST_OUT,ValDataAct)\n",
    "    L_Erms_Val.append(float(Erms_Val.split(',')[1]))\n",
    "    \n",
    "    #-----------------TestingData Accuracy---------------------#\n",
    "    TEST_OUT      = GetValTest(TEST_PHI,W_T_Next) \n",
    "    Erms_Test = GetErms(TEST_OUT,TestDataAct)\n",
    "    L_Erms_Test.append(float(Erms_Test.split(',')[1]))"
   ]
  },
  {
   "cell_type": "code",
   "execution_count": 35,
   "metadata": {},
   "outputs": [
    {
     "name": "stdout",
     "output_type": "stream",
     "text": [
      "----------Gradient Descent Solution--------------------\n",
      "E_rms Training   = 0.56514\n",
      "E_rms Validation = 0.55429\n",
      "E_rms Testing    = 0.63595\n"
     ]
    }
   ],
   "source": [
    "print ('----------Gradient Descent Solution--------------------')\n",
    "print (\"E_rms Training   = \" + str(np.around(min(L_Erms_TR),5)))\n",
    "print (\"E_rms Validation = \" + str(np.around(min(L_Erms_Val),5)))\n",
    "print (\"E_rms Testing    = \" + str(np.around(min(L_Erms_Test),5)))"
   ]
  },
  {
   "cell_type": "code",
   "execution_count": null,
   "metadata": {},
   "outputs": [],
   "source": []
  }
 ],
 "metadata": {
  "kernelspec": {
   "display_name": "Python 3",
   "language": "python",
   "name": "python3"
  },
  "language_info": {
   "codemirror_mode": {
    "name": "ipython",
    "version": 3
   },
   "file_extension": ".py",
   "mimetype": "text/x-python",
   "name": "python",
   "nbconvert_exporter": "python",
   "pygments_lexer": "ipython3",
   "version": "3.6.5"
  }
 },
 "nbformat": 4,
 "nbformat_minor": 2
}
